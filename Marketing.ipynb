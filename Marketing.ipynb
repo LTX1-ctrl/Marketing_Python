{
 "cells": [
  {
   "cell_type": "code",
   "execution_count": null,
   "id": "decda6b4-14f3-48be-9341-831e49dc5da4",
   "metadata": {},
   "outputs": [],
   "source": [
    "import requests\n",
    "\n",
    "# Create Authorization Token to Access the Criteo API\n",
    "#The Token is active for approximately 5 minutes\n",
    "\n",
    "url = \"https://api.criteo.com/oauth2/token\"\n",
    "\n",
    "payload = \"grant_type=client_credentials&client_id=8a12d768a30846a4bef53587cfff77b1&client_secret=mwoDnVQY%2B7nCL3hxZZNDA43A7SmERLWWntyXVOFVQRBN\"\n",
    "headers = {\n",
    "    \"Accept\": \"text/plain\",\n",
    "    \"Content-Type\": \"application/x-www-form-urlencoded\"\n",
    "}\n",
    "\n",
    "#assigning the authorization token to the variable response\n",
    "\n",
    "response = requests.request(\"POST\", url, data=payload, headers=headers)\n",
    "\n",
    "#converting Token from request format to a dictionary so that i dynamically can insert it later\n",
    "response = eval(response.text)\n",
    "\n",
    "#Printing Token as a sanity check\n",
    "print(response['access_token'])"
   ]
  },
  {
   "cell_type": "code",
   "execution_count": null,
   "id": "1f41c363-ebb6-4b36-bc29-e92eb695164f",
   "metadata": {},
   "outputs": [],
   "source": [
    "\n",
    "#pulling the data from Criteo\n",
    "\n",
    "url = \"https://api.criteo.com/2021-04/statistics/report\"\n",
    "\n",
    "#Specifying the dimensions and metrics as well as the format of the file output which is csv in this case\n",
    "\n",
    "payload = \"{\\\"dimensions\\\":[\\\"Day\\\"],\\\"metrics\\\":[\\\"Clicks\\\",\\\"Displays\\\",\\\"Cpc\\\",\\\"Visits\\\"],\\\"timezone\\\":\\\"UTC\\\",\\\"currency\\\":\\\"EUR\\\",\\\"format\\\":\\\"csv\\\",\\\"startDate\\\":\\\"2021-01-01T00:00:00.0000000+00:00\\\",\\\"endDate\\\":\\\"2021-07-21T00:00:00.0000000+00:00\\\"}\"\n",
    "\n",
    "# inserting the access token in the third row of the following section\n",
    "\n",
    "headers = {\n",
    "    \"Accept\": \"text/plain\",\n",
    "    \"Content-Type\": \"application/*+json\",\n",
    "    \"Authorization\": \"Bearer \" + response['access_token']\n",
    "}\n",
    "\n",
    "#assigning the result to the variable response2\n",
    "\n",
    "response2 = requests.request(\"POST\", url, data=payload, headers=headers)\n",
    "\n"
   ]
  },
  {
   "cell_type": "code",
   "execution_count": null,
   "id": "0cb9edb5-5b82-4534-8e3c-b65a312004e4",
   "metadata": {},
   "outputs": [],
   "source": [
    "import pandas as pd\n",
    "import io\n",
    "\n",
    "#converting the information from response2 firstly to a string\n",
    "\n",
    "data = io.StringIO(response2.text)\n",
    "\n",
    "#thereafter reading the string as a csv file and thereby converting it to a dataframe\n",
    "df = pd.read_csv(data, sep=\";\")\n",
    "\n",
    "#sorting the values after the Day column\n",
    "df.sort_values(\"ï»¿Day\", ascending = True)\n",
    "\n",
    "#Reading the dataframe into an excel file\n",
    "#For this to work, it is necessary to create this filepath in your working directory\n",
    "#If you are on windows, this filepath might look different\n",
    "#It is important to create the output file beforehand, so that there is something to read the data into\n",
    "df.to_excel(\"marketing_output/output.xlsx\")"
   ]
  }
 ],
 "metadata": {
  "kernelspec": {
   "display_name": "Python 3",
   "language": "python",
   "name": "python3"
  },
  "language_info": {
   "codemirror_mode": {
    "name": "ipython",
    "version": 3
   },
   "file_extension": ".py",
   "mimetype": "text/x-python",
   "name": "python",
   "nbconvert_exporter": "python",
   "pygments_lexer": "ipython3",
   "version": "3.8.8"
  }
 },
 "nbformat": 4,
 "nbformat_minor": 5
}
